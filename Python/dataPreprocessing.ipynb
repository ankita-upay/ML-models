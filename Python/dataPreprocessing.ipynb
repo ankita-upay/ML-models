{
 "cells": [
  {
   "cell_type": "markdown",
   "metadata": {},
   "source": [
    "# Data Preprocessing"
   ]
  },
  {
   "cell_type": "code",
   "execution_count": 1,
   "metadata": {},
   "outputs": [],
   "source": [
    "# Importing the libraries\n",
    "import numpy as np\n",
    "import matplotlib.pyplot as plt\n",
    "import pandas as pd\n",
    "import os "
   ]
  },
  {
   "cell_type": "code",
   "execution_count": 2,
   "metadata": {},
   "outputs": [],
   "source": [
    "import warnings\n",
    "warnings.filterwarnings('ignore')"
   ]
  },
  {
   "cell_type": "code",
   "execution_count": 3,
   "metadata": {},
   "outputs": [],
   "source": [
    "def matprint(mat, fmt=\"g\"):\n",
    "    col_maxes = [max([len((\"{:\"+fmt+\"}\").format(x)) for x in col]) for col in mat.T]\n",
    "    for x in mat:\n",
    "        for i, y in enumerate(x):\n",
    "            print((\"{:\"+str(col_maxes[i])+fmt+\"}\").format(y), end=\"  \")\n",
    "        print(\"\")"
   ]
  },
  {
   "cell_type": "code",
   "execution_count": 4,
   "metadata": {},
   "outputs": [],
   "source": [
    "import IPython.core.display\n",
    "\n",
    "def _html_repr_helper(contents, index, is_horz):\n",
    "    dims_left = contents.ndim - len(index)\n",
    "    if dims_left == 0:\n",
    "        s = contents[index]\n",
    "    else:\n",
    "        s = '<span class=\"numpy-array-comma\">,</span>'.join(\n",
    "            _html_repr_helper(contents, index + (i,), is_horz) for i in range(contents.shape[len(index)])\n",
    "        )\n",
    "        s = ('<span class=\"numpy-array-bracket numpy-array-bracket-open\">[</span>'\n",
    "            '{}'\n",
    "            '<span class=\"numpy-array-bracket numpy-array-bracket-close\">]</span>'.format(s))\n",
    "        \n",
    "    # apply some classes for styling\n",
    "    classes = []\n",
    "    classes.append('numpy-array-slice')\n",
    "    classes.append('numpy-array-ndim-{}'.format(len(index)))\n",
    "    classes.append('numpy-array-ndim-m{}'.format(dims_left))\n",
    "    if is_horz(contents, len(index)):\n",
    "        classes.append('numpy-array-horizontal')\n",
    "    else:\n",
    "        classes.append('numpy-array-vertical')\n",
    "    \n",
    "    hover_text = '[{}]'.format(','.join('{}'.format(i) for i in (index + (':',) * dims_left)))\n",
    "\n",
    "    return \"<span class='{}' title='{}'>{}</span>\".format(\n",
    "        ' '.join(classes), hover_text, s,\n",
    "    )\n",
    "\n",
    "basic_css = \"\"\"\n",
    "    .numpy-array {\n",
    "        display: inline-block;\n",
    "    }\n",
    "    .numpy-array .numpy-array-slice {\n",
    "        border: 1px solid #cfcfcf;\n",
    "        border-radius: 4px;\n",
    "        margin: 1px;\n",
    "        padding: 1px;\n",
    "        display: flex;\n",
    "        flex: 1;\n",
    "        text-align: right;\n",
    "        position: relative;\n",
    "    }\n",
    "    .numpy-array .numpy-array-slice:hover {\n",
    "        border: 1px solid #66BB6A;\n",
    "    }\n",
    "    .numpy-array .numpy-array-slice.numpy-array-vertical {\n",
    "        flex-direction: column;\n",
    "    }\n",
    "    .numpy-array .numpy-array-slice.numpy-array-horizontal {\n",
    "        flex-direction: row;\n",
    "    }\n",
    "    .numpy-array .numpy-array-ndim-m0 {\n",
    "        padding: 5px;\n",
    "    }\n",
    "    \n",
    "    /* Hide the comma and square bracket characters which exist to help with copy paste */\n",
    "    .numpy-array .numpy-array-bracket {\n",
    "        font-size: 0;\n",
    "        position: absolute;\n",
    "    }\n",
    "    .numpy-array span .numpy-array-comma {\n",
    "        font-size: 0;\n",
    "        height: 0;\n",
    "    }\n",
    "\"\"\"\n",
    "\n",
    "show_brackets_css = \"\"\"\n",
    "    .numpy-array.show-brackets .numpy-array-slice {\n",
    "        border-radius: 0;\n",
    "    }\n",
    "    .numpy-array.show-brackets .numpy-array-bracket {\n",
    "        border: 1px solid black; \n",
    "        border-radius: 0;  /* looks better without... */\n",
    "    }\n",
    "    .numpy-array.show-brackets .numpy-array-horizontal > .numpy-array-bracket-open {\n",
    "        top: -1px;\n",
    "        bottom: -1px;\n",
    "        left: -1px;\n",
    "        width: 10px;\n",
    "        border-right: none;\n",
    "        border-top-right-radius: 0;\n",
    "        border-bottom-right-radius: 0;\n",
    "    }\n",
    "    .numpy-array.show-brackets .numpy-array-horizontal > .numpy-array-bracket-close {\n",
    "        top: -1px;\n",
    "        bottom: -1px;\n",
    "        right: -1px;\n",
    "        width: 10px;\n",
    "        border-left: none;\n",
    "        border-top-left-radius: 0;\n",
    "        border-bottom-left-radius: 0;\n",
    "    }\n",
    "    .numpy-array.show-brackets .numpy-array-vertical > .numpy-array-bracket-open {\n",
    "        top: -1px;\n",
    "        right: -1px;\n",
    "        left: -1px;\n",
    "        height: 10px;\n",
    "        border-bottom: none;\n",
    "        border-bottom-right-radius: 0;\n",
    "        border-bottom-left-radius: 0;\n",
    "    }\n",
    "    .numpy-array.show-brackets .numpy-array-vertical > .numpy-array-bracket-close {\n",
    "        left: -1px;\n",
    "        bottom: -1px;\n",
    "        right: -1px;\n",
    "        height: 10px;\n",
    "        border-top: none;\n",
    "        border-top-right-radius: 0;\n",
    "        border-top-left-radius: 0;\n",
    "    }\n",
    "\"\"\"\n",
    "\n",
    "def make_pretty(self, show_brackets=False, is_horz=lambda arr, ax: ax == arr.ndim - 1):\n",
    "\n",
    "    classes = ['numpy-array']\n",
    "    css = basic_css\n",
    "    if show_brackets:\n",
    "        classes += ['show-brackets']\n",
    "        css += show_brackets_css\n",
    "    return IPython.core.display.HTML(\n",
    "        \"\"\"<style>{}</style><div class='{}'>{}</div>\"\"\".format(\n",
    "            css,\n",
    "            ' '.join(classes),\n",
    "            _html_repr_helper(self, (), is_horz))\n",
    "    )"
   ]
  },
  {
   "cell_type": "code",
   "execution_count": 5,
   "metadata": {},
   "outputs": [],
   "source": [
    "os.chdir('/home/ricky/Machine Learning/Machine Learning A-Z Template Folder/Part 1 - Data Preprocessing')"
   ]
  },
  {
   "cell_type": "code",
   "execution_count": 6,
   "metadata": {},
   "outputs": [
    {
     "data": {
      "text/html": [
       "<div>\n",
       "<style scoped>\n",
       "    .dataframe tbody tr th:only-of-type {\n",
       "        vertical-align: middle;\n",
       "    }\n",
       "\n",
       "    .dataframe tbody tr th {\n",
       "        vertical-align: top;\n",
       "    }\n",
       "\n",
       "    .dataframe thead th {\n",
       "        text-align: right;\n",
       "    }\n",
       "</style>\n",
       "<table border=\"1\" class=\"dataframe\">\n",
       "  <thead>\n",
       "    <tr style=\"text-align: right;\">\n",
       "      <th></th>\n",
       "      <th>Country</th>\n",
       "      <th>Age</th>\n",
       "      <th>Salary</th>\n",
       "      <th>Purchased</th>\n",
       "    </tr>\n",
       "  </thead>\n",
       "  <tbody>\n",
       "    <tr>\n",
       "      <th>0</th>\n",
       "      <td>France</td>\n",
       "      <td>44.0</td>\n",
       "      <td>72000.0</td>\n",
       "      <td>No</td>\n",
       "    </tr>\n",
       "    <tr>\n",
       "      <th>1</th>\n",
       "      <td>Spain</td>\n",
       "      <td>27.0</td>\n",
       "      <td>48000.0</td>\n",
       "      <td>Yes</td>\n",
       "    </tr>\n",
       "    <tr>\n",
       "      <th>2</th>\n",
       "      <td>Germany</td>\n",
       "      <td>30.0</td>\n",
       "      <td>54000.0</td>\n",
       "      <td>No</td>\n",
       "    </tr>\n",
       "  </tbody>\n",
       "</table>\n",
       "</div>"
      ],
      "text/plain": [
       "   Country   Age   Salary Purchased\n",
       "0   France  44.0  72000.0        No\n",
       "1    Spain  27.0  48000.0       Yes\n",
       "2  Germany  30.0  54000.0        No"
      ]
     },
     "execution_count": 6,
     "metadata": {},
     "output_type": "execute_result"
    }
   ],
   "source": [
    "df=pd.read_csv('Data.csv')\n",
    "df.head(3)"
   ]
  },
  {
   "cell_type": "code",
   "execution_count": 7,
   "metadata": {},
   "outputs": [],
   "source": [
    "np.set_printoptions(threshold=np.nan,suppress=True)"
   ]
  },
  {
   "cell_type": "code",
   "execution_count": 8,
   "metadata": {},
   "outputs": [
    {
     "data": {
      "text/plain": [
       "array([0, 1, 2, 3, 4, 5, 6, 7, 8, 9])"
      ]
     },
     "execution_count": 8,
     "metadata": {},
     "output_type": "execute_result"
    }
   ],
   "source": [
    "df.index.values"
   ]
  },
  {
   "cell_type": "code",
   "execution_count": 9,
   "metadata": {},
   "outputs": [
    {
     "data": {
      "text/plain": [
       "array([['France', 44.0, 72000.0],\n",
       "       ['Spain', 27.0, 48000.0],\n",
       "       ['Germany', 30.0, 54000.0],\n",
       "       ['Spain', 38.0, 61000.0],\n",
       "       ['Germany', 40.0, nan],\n",
       "       ['France', 35.0, 58000.0],\n",
       "       ['Spain', nan, 52000.0],\n",
       "       ['France', 48.0, 79000.0],\n",
       "       ['Germany', 50.0, 83000.0],\n",
       "       ['France', 37.0, 67000.0]], dtype=object)"
      ]
     },
     "execution_count": 9,
     "metadata": {},
     "output_type": "execute_result"
    }
   ],
   "source": [
    "features=df.iloc[:,:-1].values\n",
    "features"
   ]
  },
  {
   "cell_type": "code",
   "execution_count": 10,
   "metadata": {},
   "outputs": [
    {
     "data": {
      "text/plain": [
       "array(['No', 'Yes', 'No', 'No', 'Yes', 'Yes', 'No', 'Yes', 'No', 'Yes'],\n",
       "      dtype=object)"
      ]
     },
     "execution_count": 10,
     "metadata": {},
     "output_type": "execute_result"
    }
   ],
   "source": [
    "labels=df.iloc[:,3].values\n",
    "labels"
   ]
  },
  {
   "cell_type": "code",
   "execution_count": 11,
   "metadata": {},
   "outputs": [
    {
     "name": "stderr",
     "output_type": "stream",
     "text": [
      "/home/ricky/anaconda3/lib/python3.7/site-packages/sklearn/utils/deprecation.py:58: DeprecationWarning: Class Imputer is deprecated; Imputer was deprecated in version 0.20 and will be removed in 0.22. Import impute.SimpleImputer from sklearn instead.\n",
      "  warnings.warn(msg, category=DeprecationWarning)\n"
     ]
    }
   ],
   "source": [
    "from sklearn.preprocessing import Imputer\n",
    "imputer=Imputer(missing_values='NaN',strategy='mean',axis=0)"
   ]
  },
  {
   "cell_type": "code",
   "execution_count": 12,
   "metadata": {},
   "outputs": [
    {
     "data": {
      "text/plain": [
       "array([['France', 44.0, 72000.0],\n",
       "       ['Spain', 27.0, 48000.0],\n",
       "       ['Germany', 30.0, 54000.0],\n",
       "       ['Spain', 38.0, 61000.0],\n",
       "       ['Germany', 40.0, 63777.77777777778],\n",
       "       ['France', 35.0, 58000.0],\n",
       "       ['Spain', 38.77777777777778, 52000.0],\n",
       "       ['France', 48.0, 79000.0],\n",
       "       ['Germany', 50.0, 83000.0],\n",
       "       ['France', 37.0, 67000.0]], dtype=object)"
      ]
     },
     "execution_count": 12,
     "metadata": {},
     "output_type": "execute_result"
    }
   ],
   "source": [
    "#fit this imputer in matrix\n",
    "imputer=imputer.fit(features[:,1:3])\n",
    "features[:,1:3]=imputer.transform(features[:,1:3])\n",
    "features\n"
   ]
  },
  {
   "cell_type": "code",
   "execution_count": 13,
   "metadata": {},
   "outputs": [
    {
     "data": {
      "text/plain": [
       "array([[0, 44.0, 72000.0],\n",
       "       [2, 27.0, 48000.0],\n",
       "       [1, 30.0, 54000.0],\n",
       "       [2, 38.0, 61000.0],\n",
       "       [1, 40.0, 63777.77777777778],\n",
       "       [0, 35.0, 58000.0],\n",
       "       [2, 38.77777777777778, 52000.0],\n",
       "       [0, 48.0, 79000.0],\n",
       "       [1, 50.0, 83000.0],\n",
       "       [0, 37.0, 67000.0]], dtype=object)"
      ]
     },
     "execution_count": 13,
     "metadata": {},
     "output_type": "execute_result"
    }
   ],
   "source": [
    "#dealing with categorical variable\n",
    "from sklearn.preprocessing import LabelEncoder\n",
    "labelencoder_features=LabelEncoder()\n",
    "features[:,0]=labelencoder_features.fit_transform(features[:,0])\n",
    "features"
   ]
  },
  {
   "cell_type": "code",
   "execution_count": 14,
   "metadata": {},
   "outputs": [
    {
     "name": "stderr",
     "output_type": "stream",
     "text": [
      "/home/ricky/anaconda3/lib/python3.7/site-packages/sklearn/preprocessing/_encoders.py:390: DeprecationWarning: The 'categorical_features' keyword is deprecated in version 0.20 and will be removed in 0.22. You can use the ColumnTransformer instead.\n",
      "  \"use the ColumnTransformer instead.\", DeprecationWarning)\n"
     ]
    }
   ],
   "source": [
    "# above ml models it will think spain is bigger than france and germany that is incorrect\n",
    "# the equations will take incorrect assumptions\n",
    "#so we need dummy encoding\n",
    "# so we will have 3 columns for 3 categories here\n",
    "from sklearn.preprocessing import OneHotEncoder\n",
    "onehotencoder_features=OneHotEncoder(categorical_features=[0])\n",
    "features=onehotencoder_features.fit_transform(features).toarray()"
   ]
  },
  {
   "cell_type": "code",
   "execution_count": 15,
   "metadata": {},
   "outputs": [
    {
     "name": "stdout",
     "output_type": "stream",
     "text": [
      "1  0  0       44    72000  \n",
      "0  0  1       27    48000  \n",
      "0  1  0       30    54000  \n",
      "0  0  1       38    61000  \n",
      "0  1  0       40  63777.8  \n",
      "1  0  0       35    58000  \n",
      "0  0  1  38.7778    52000  \n",
      "1  0  0       48    79000  \n",
      "0  1  0       50    83000  \n",
      "1  0  0       37    67000  \n"
     ]
    }
   ],
   "source": [
    "matprint(features)"
   ]
  },
  {
   "cell_type": "code",
   "execution_count": 25,
   "metadata": {},
   "outputs": [
    {
     "data": {
      "text/html": [
       "<style>\n",
       "    .numpy-array {\n",
       "        display: inline-block;\n",
       "    }\n",
       "    .numpy-array .numpy-array-slice {\n",
       "        border: 1px solid #cfcfcf;\n",
       "        border-radius: 4px;\n",
       "        margin: 1px;\n",
       "        padding: 1px;\n",
       "        display: flex;\n",
       "        flex: 1;\n",
       "        text-align: right;\n",
       "        position: relative;\n",
       "    }\n",
       "    .numpy-array .numpy-array-slice:hover {\n",
       "        border: 1px solid #66BB6A;\n",
       "    }\n",
       "    .numpy-array .numpy-array-slice.numpy-array-vertical {\n",
       "        flex-direction: column;\n",
       "    }\n",
       "    .numpy-array .numpy-array-slice.numpy-array-horizontal {\n",
       "        flex-direction: row;\n",
       "    }\n",
       "    .numpy-array .numpy-array-ndim-m0 {\n",
       "        padding: 5px;\n",
       "    }\n",
       "    \n",
       "    /* Hide the comma and square bracket characters which exist to help with copy paste */\n",
       "    .numpy-array .numpy-array-bracket {\n",
       "        font-size: 0;\n",
       "        position: absolute;\n",
       "    }\n",
       "    .numpy-array span .numpy-array-comma {\n",
       "        font-size: 0;\n",
       "        height: 0;\n",
       "    }\n",
       "</style><div class='numpy-array'><span class='numpy-array-slice numpy-array-ndim-0 numpy-array-ndim-m2 numpy-array-vertical' title='[:,:]'><span class=\"numpy-array-bracket numpy-array-bracket-open\">[</span><span class='numpy-array-slice numpy-array-ndim-1 numpy-array-ndim-m1 numpy-array-horizontal' title='[0,:]'><span class=\"numpy-array-bracket numpy-array-bracket-open\">[</span><span class='numpy-array-slice numpy-array-ndim-2 numpy-array-ndim-m0 numpy-array-vertical' title='[0,0]'>1.0</span><span class=\"numpy-array-comma\">,</span><span class='numpy-array-slice numpy-array-ndim-2 numpy-array-ndim-m0 numpy-array-vertical' title='[0,1]'>0.0</span><span class=\"numpy-array-comma\">,</span><span class='numpy-array-slice numpy-array-ndim-2 numpy-array-ndim-m0 numpy-array-vertical' title='[0,2]'>0.0</span><span class=\"numpy-array-comma\">,</span><span class='numpy-array-slice numpy-array-ndim-2 numpy-array-ndim-m0 numpy-array-vertical' title='[0,3]'>44.0</span><span class=\"numpy-array-comma\">,</span><span class='numpy-array-slice numpy-array-ndim-2 numpy-array-ndim-m0 numpy-array-vertical' title='[0,4]'>72000.0</span><span class=\"numpy-array-bracket numpy-array-bracket-close\">]</span></span><span class=\"numpy-array-comma\">,</span><span class='numpy-array-slice numpy-array-ndim-1 numpy-array-ndim-m1 numpy-array-horizontal' title='[1,:]'><span class=\"numpy-array-bracket numpy-array-bracket-open\">[</span><span class='numpy-array-slice numpy-array-ndim-2 numpy-array-ndim-m0 numpy-array-vertical' title='[1,0]'>0.0</span><span class=\"numpy-array-comma\">,</span><span class='numpy-array-slice numpy-array-ndim-2 numpy-array-ndim-m0 numpy-array-vertical' title='[1,1]'>0.0</span><span class=\"numpy-array-comma\">,</span><span class='numpy-array-slice numpy-array-ndim-2 numpy-array-ndim-m0 numpy-array-vertical' title='[1,2]'>1.0</span><span class=\"numpy-array-comma\">,</span><span class='numpy-array-slice numpy-array-ndim-2 numpy-array-ndim-m0 numpy-array-vertical' title='[1,3]'>27.0</span><span class=\"numpy-array-comma\">,</span><span class='numpy-array-slice numpy-array-ndim-2 numpy-array-ndim-m0 numpy-array-vertical' title='[1,4]'>48000.0</span><span class=\"numpy-array-bracket numpy-array-bracket-close\">]</span></span><span class=\"numpy-array-comma\">,</span><span class='numpy-array-slice numpy-array-ndim-1 numpy-array-ndim-m1 numpy-array-horizontal' title='[2,:]'><span class=\"numpy-array-bracket numpy-array-bracket-open\">[</span><span class='numpy-array-slice numpy-array-ndim-2 numpy-array-ndim-m0 numpy-array-vertical' title='[2,0]'>0.0</span><span class=\"numpy-array-comma\">,</span><span class='numpy-array-slice numpy-array-ndim-2 numpy-array-ndim-m0 numpy-array-vertical' title='[2,1]'>1.0</span><span class=\"numpy-array-comma\">,</span><span class='numpy-array-slice numpy-array-ndim-2 numpy-array-ndim-m0 numpy-array-vertical' title='[2,2]'>0.0</span><span class=\"numpy-array-comma\">,</span><span class='numpy-array-slice numpy-array-ndim-2 numpy-array-ndim-m0 numpy-array-vertical' title='[2,3]'>30.0</span><span class=\"numpy-array-comma\">,</span><span class='numpy-array-slice numpy-array-ndim-2 numpy-array-ndim-m0 numpy-array-vertical' title='[2,4]'>54000.0</span><span class=\"numpy-array-bracket numpy-array-bracket-close\">]</span></span><span class=\"numpy-array-comma\">,</span><span class='numpy-array-slice numpy-array-ndim-1 numpy-array-ndim-m1 numpy-array-horizontal' title='[3,:]'><span class=\"numpy-array-bracket numpy-array-bracket-open\">[</span><span class='numpy-array-slice numpy-array-ndim-2 numpy-array-ndim-m0 numpy-array-vertical' title='[3,0]'>0.0</span><span class=\"numpy-array-comma\">,</span><span class='numpy-array-slice numpy-array-ndim-2 numpy-array-ndim-m0 numpy-array-vertical' title='[3,1]'>0.0</span><span class=\"numpy-array-comma\">,</span><span class='numpy-array-slice numpy-array-ndim-2 numpy-array-ndim-m0 numpy-array-vertical' title='[3,2]'>1.0</span><span class=\"numpy-array-comma\">,</span><span class='numpy-array-slice numpy-array-ndim-2 numpy-array-ndim-m0 numpy-array-vertical' title='[3,3]'>38.0</span><span class=\"numpy-array-comma\">,</span><span class='numpy-array-slice numpy-array-ndim-2 numpy-array-ndim-m0 numpy-array-vertical' title='[3,4]'>61000.0</span><span class=\"numpy-array-bracket numpy-array-bracket-close\">]</span></span><span class=\"numpy-array-comma\">,</span><span class='numpy-array-slice numpy-array-ndim-1 numpy-array-ndim-m1 numpy-array-horizontal' title='[4,:]'><span class=\"numpy-array-bracket numpy-array-bracket-open\">[</span><span class='numpy-array-slice numpy-array-ndim-2 numpy-array-ndim-m0 numpy-array-vertical' title='[4,0]'>0.0</span><span class=\"numpy-array-comma\">,</span><span class='numpy-array-slice numpy-array-ndim-2 numpy-array-ndim-m0 numpy-array-vertical' title='[4,1]'>1.0</span><span class=\"numpy-array-comma\">,</span><span class='numpy-array-slice numpy-array-ndim-2 numpy-array-ndim-m0 numpy-array-vertical' title='[4,2]'>0.0</span><span class=\"numpy-array-comma\">,</span><span class='numpy-array-slice numpy-array-ndim-2 numpy-array-ndim-m0 numpy-array-vertical' title='[4,3]'>40.0</span><span class=\"numpy-array-comma\">,</span><span class='numpy-array-slice numpy-array-ndim-2 numpy-array-ndim-m0 numpy-array-vertical' title='[4,4]'>63777.77777777778</span><span class=\"numpy-array-bracket numpy-array-bracket-close\">]</span></span><span class=\"numpy-array-comma\">,</span><span class='numpy-array-slice numpy-array-ndim-1 numpy-array-ndim-m1 numpy-array-horizontal' title='[5,:]'><span class=\"numpy-array-bracket numpy-array-bracket-open\">[</span><span class='numpy-array-slice numpy-array-ndim-2 numpy-array-ndim-m0 numpy-array-vertical' title='[5,0]'>1.0</span><span class=\"numpy-array-comma\">,</span><span class='numpy-array-slice numpy-array-ndim-2 numpy-array-ndim-m0 numpy-array-vertical' title='[5,1]'>0.0</span><span class=\"numpy-array-comma\">,</span><span class='numpy-array-slice numpy-array-ndim-2 numpy-array-ndim-m0 numpy-array-vertical' title='[5,2]'>0.0</span><span class=\"numpy-array-comma\">,</span><span class='numpy-array-slice numpy-array-ndim-2 numpy-array-ndim-m0 numpy-array-vertical' title='[5,3]'>35.0</span><span class=\"numpy-array-comma\">,</span><span class='numpy-array-slice numpy-array-ndim-2 numpy-array-ndim-m0 numpy-array-vertical' title='[5,4]'>58000.0</span><span class=\"numpy-array-bracket numpy-array-bracket-close\">]</span></span><span class=\"numpy-array-comma\">,</span><span class='numpy-array-slice numpy-array-ndim-1 numpy-array-ndim-m1 numpy-array-horizontal' title='[6,:]'><span class=\"numpy-array-bracket numpy-array-bracket-open\">[</span><span class='numpy-array-slice numpy-array-ndim-2 numpy-array-ndim-m0 numpy-array-vertical' title='[6,0]'>0.0</span><span class=\"numpy-array-comma\">,</span><span class='numpy-array-slice numpy-array-ndim-2 numpy-array-ndim-m0 numpy-array-vertical' title='[6,1]'>0.0</span><span class=\"numpy-array-comma\">,</span><span class='numpy-array-slice numpy-array-ndim-2 numpy-array-ndim-m0 numpy-array-vertical' title='[6,2]'>1.0</span><span class=\"numpy-array-comma\">,</span><span class='numpy-array-slice numpy-array-ndim-2 numpy-array-ndim-m0 numpy-array-vertical' title='[6,3]'>38.77777777777778</span><span class=\"numpy-array-comma\">,</span><span class='numpy-array-slice numpy-array-ndim-2 numpy-array-ndim-m0 numpy-array-vertical' title='[6,4]'>52000.0</span><span class=\"numpy-array-bracket numpy-array-bracket-close\">]</span></span><span class=\"numpy-array-comma\">,</span><span class='numpy-array-slice numpy-array-ndim-1 numpy-array-ndim-m1 numpy-array-horizontal' title='[7,:]'><span class=\"numpy-array-bracket numpy-array-bracket-open\">[</span><span class='numpy-array-slice numpy-array-ndim-2 numpy-array-ndim-m0 numpy-array-vertical' title='[7,0]'>1.0</span><span class=\"numpy-array-comma\">,</span><span class='numpy-array-slice numpy-array-ndim-2 numpy-array-ndim-m0 numpy-array-vertical' title='[7,1]'>0.0</span><span class=\"numpy-array-comma\">,</span><span class='numpy-array-slice numpy-array-ndim-2 numpy-array-ndim-m0 numpy-array-vertical' title='[7,2]'>0.0</span><span class=\"numpy-array-comma\">,</span><span class='numpy-array-slice numpy-array-ndim-2 numpy-array-ndim-m0 numpy-array-vertical' title='[7,3]'>48.0</span><span class=\"numpy-array-comma\">,</span><span class='numpy-array-slice numpy-array-ndim-2 numpy-array-ndim-m0 numpy-array-vertical' title='[7,4]'>79000.0</span><span class=\"numpy-array-bracket numpy-array-bracket-close\">]</span></span><span class=\"numpy-array-comma\">,</span><span class='numpy-array-slice numpy-array-ndim-1 numpy-array-ndim-m1 numpy-array-horizontal' title='[8,:]'><span class=\"numpy-array-bracket numpy-array-bracket-open\">[</span><span class='numpy-array-slice numpy-array-ndim-2 numpy-array-ndim-m0 numpy-array-vertical' title='[8,0]'>0.0</span><span class=\"numpy-array-comma\">,</span><span class='numpy-array-slice numpy-array-ndim-2 numpy-array-ndim-m0 numpy-array-vertical' title='[8,1]'>1.0</span><span class=\"numpy-array-comma\">,</span><span class='numpy-array-slice numpy-array-ndim-2 numpy-array-ndim-m0 numpy-array-vertical' title='[8,2]'>0.0</span><span class=\"numpy-array-comma\">,</span><span class='numpy-array-slice numpy-array-ndim-2 numpy-array-ndim-m0 numpy-array-vertical' title='[8,3]'>50.0</span><span class=\"numpy-array-comma\">,</span><span class='numpy-array-slice numpy-array-ndim-2 numpy-array-ndim-m0 numpy-array-vertical' title='[8,4]'>83000.0</span><span class=\"numpy-array-bracket numpy-array-bracket-close\">]</span></span><span class=\"numpy-array-comma\">,</span><span class='numpy-array-slice numpy-array-ndim-1 numpy-array-ndim-m1 numpy-array-horizontal' title='[9,:]'><span class=\"numpy-array-bracket numpy-array-bracket-open\">[</span><span class='numpy-array-slice numpy-array-ndim-2 numpy-array-ndim-m0 numpy-array-vertical' title='[9,0]'>1.0</span><span class=\"numpy-array-comma\">,</span><span class='numpy-array-slice numpy-array-ndim-2 numpy-array-ndim-m0 numpy-array-vertical' title='[9,1]'>0.0</span><span class=\"numpy-array-comma\">,</span><span class='numpy-array-slice numpy-array-ndim-2 numpy-array-ndim-m0 numpy-array-vertical' title='[9,2]'>0.0</span><span class=\"numpy-array-comma\">,</span><span class='numpy-array-slice numpy-array-ndim-2 numpy-array-ndim-m0 numpy-array-vertical' title='[9,3]'>37.0</span><span class=\"numpy-array-comma\">,</span><span class='numpy-array-slice numpy-array-ndim-2 numpy-array-ndim-m0 numpy-array-vertical' title='[9,4]'>67000.0</span><span class=\"numpy-array-bracket numpy-array-bracket-close\">]</span></span><span class=\"numpy-array-bracket numpy-array-bracket-close\">]</span></span></div>"
      ],
      "text/plain": [
       "<IPython.core.display.HTML object>"
      ]
     },
     "execution_count": 25,
     "metadata": {},
     "output_type": "execute_result"
    }
   ],
   "source": [
    "make_pretty(features)"
   ]
  },
  {
   "cell_type": "code",
   "execution_count": 16,
   "metadata": {},
   "outputs": [
    {
     "data": {
      "text/plain": [
       "array([0, 1, 0, 0, 1, 1, 0, 1, 0, 1])"
      ]
     },
     "execution_count": 16,
     "metadata": {},
     "output_type": "execute_result"
    }
   ],
   "source": [
    "#doing the same for next categorical variable\n",
    "# for the dependent variable we just need to use \n",
    "# Labelencoder since ml models will know \n",
    "\n",
    "labelencoder_label=LabelEncoder()\n",
    "labels=labelencoder_label.fit_transform(labels)\n",
    "labels"
   ]
  },
  {
   "cell_type": "code",
   "execution_count": 17,
   "metadata": {},
   "outputs": [],
   "source": [
    "# split into training set and test set\n",
    "from sklearn.model_selection import train_test_split\n",
    "features_train,features_test,labels_train,labels_test = train_test_split(features,labels,test_size=0.2,random_state=0)"
   ]
  },
  {
   "cell_type": "code",
   "execution_count": null,
   "metadata": {},
   "outputs": [],
   "source": [
    "#feature scaling\n"
   ]
  },
  {
   "cell_type": "code",
   "execution_count": null,
   "metadata": {},
   "outputs": [],
   "source": [
    "#Regressiin Models (both linear and non linear) are used for predicting a real value "
   ]
  }
 ],
 "metadata": {
  "kernelspec": {
   "display_name": "Python 3",
   "language": "python",
   "name": "python3"
  },
  "language_info": {
   "codemirror_mode": {
    "name": "ipython",
    "version": 3
   },
   "file_extension": ".py",
   "mimetype": "text/x-python",
   "name": "python",
   "nbconvert_exporter": "python",
   "pygments_lexer": "ipython3",
   "version": "3.7.1"
  }
 },
 "nbformat": 4,
 "nbformat_minor": 2
}
